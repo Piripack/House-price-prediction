{
  "nbformat": 4,
  "nbformat_minor": 0,
  "metadata": {
    "colab": {
      "provenance": [],
      "authorship_tag": "ABX9TyM4egxACCdT6szQ4DoTUPkQ",
      "include_colab_link": true
    },
    "kernelspec": {
      "name": "python3",
      "display_name": "Python 3"
    },
    "language_info": {
      "name": "python"
    }
  },
  "cells": [
    {
      "cell_type": "markdown",
      "metadata": {
        "id": "view-in-github",
        "colab_type": "text"
      },
      "source": [
        "<a href=\"https://colab.research.google.com/github/Piripack/House-price-prediction/blob/main/Untitled22.ipynb\" target=\"_parent\"><img src=\"https://colab.research.google.com/assets/colab-badge.svg\" alt=\"Open In Colab\"/></a>"
      ]
    },
    {
      "cell_type": "markdown",
      "source": [
        "# Property Price Prediction Project\n",
        "\n",
        "This project aims to predict the average property prices for different types of properties (Detached, Semi-Detached, Terraced, and Flat) in the UK using historical data. The dataset covers property prices from various regions of the UK over the past two decades. The goal of this project is to showcase my skills in data preprocessing, feature engineering, machine learning model development, and evaluation.\n",
        "\n",
        "## Table of Contents\n",
        "\n",
        "- [Project Overview](#project-overview)\n",
        "- [Data Cleaning & Preprocessing](#data-cleaning--preprocessing)\n",
        "- [Feature Engineering](#feature-engineering)\n",
        "- [Machine Learning Model](#machine-learning-model)\n",
        "- [Model Evaluation](#model-evaluation)\n",
        "- [Visualizations](#visualizations)\n",
        "- [Conclusion](#conclusion)\n",
        "- [Future Work](#future-work)\n",
        "\n",
        "## Data Cleaning & Preprocessing\n",
        "\n",
        "The dataset is loaded, cleaned, and preprocessed to remove missing values and irrelevant rows. The following steps are carried out:\n",
        "\n",
        "1. **Convert Date to datetime format**: The 'Date' column is converted to the proper datetime format for easier manipulation.\n",
        "2. **Remove Data Before 2005**: Data from years prior to 2005 is removed to focus on more recent trends.\n",
        "3. **Rolling Averages**: A 12-month rolling average is calculated for each property type to smooth out fluctuations and identify long-term trends.\n",
        "\n",
        "## Feature Engineering\n",
        "\n",
        "The dataset is enhanced by creating new features such as:\n",
        "- **Rolling averages** for each property type (Detached, Semi-Detached, Terraced, Flat) to highlight long-term trends.\n",
        "- **Regional Aggregation**: Regional average prices for property types are computed to examine the regional variations in property prices.\n",
        "\n",
        "## Machine Learning Model\n",
        "\n",
        "A Random Forest Regressor model is trained using historical data from 2005-2007 and tested on 2008 data. The model predicts property prices for detached houses, but the same methodology can be extended to other property types. The performance is evaluated using common regression metrics such as RMSE, MAE, and R².\n",
        "\n",
        "## Model Evaluation\n",
        "\n",
        "The model is evaluated using the test set (2008 data) and also through performance metrics including:\n",
        "- **RMSE (Root Mean Squared Error)**\n",
        "- **MAE (Mean Absolute Error)**\n",
        "- **R² Score**: To evaluate how well the model fits the data.\n",
        "\n",
        "## Visualizations\n",
        "\n",
        "Several visualizations are included to showcase the trends and evaluation results, including:\n",
        "- **Price Trend Over Time**: Showing the property price trends over time.\n",
        "- **Feature Importance**: Visualizing the most important features used by the Random Forest model.\n",
        "- **Actual vs Predicted Prices**: Scatter plot comparing actual vs predicted property prices.\n",
        "- **Model Evaluation Metrics**: Bar chart comparing RMSE, MAE, and R² scores for the training and testing sets.\n",
        "- **Residual Plot**: Visualizing the residuals (errors) of the model to check for any patterns.\n",
        "\n",
        "## Conclusion\n",
        "\n",
        "This project demonstrates the application of data preprocessing, feature engineering, and machine learning techniques to predict property prices. The model performed well with good evaluation scores and provides a solid foundation for further exploration and improvements.\n",
        "\n",
        "## Future Work\n",
        "\n",
        "Future work includes:\n",
        "- **Hyperparameter tuning** to optimize the Random Forest model.\n",
        "- **Expanding the model** to predict prices for other property types.\n",
        "- **Time series forecasting** methods to predict future property prices.\n"
      ],
      "metadata": {
        "id": "jINmBAgGLabV"
      }
    },
    {
      "cell_type": "markdown",
      "source": [
        "# Project Code:"
      ],
      "metadata": {
        "id": "AwBZ4od6Lml1"
      }
    },
    {
      "cell_type": "code",
      "source": [
        "import pandas as pd\n",
        "\n",
        "# Load the dataset\n",
        "file_path = 'Average-prices-Property-Type-2023-12.csv'\n",
        "df = pd.read_csv(file_path)\n",
        "\n",
        "# Show the first few rows of the dataset to understand its structure\n",
        "df.head()\n"
      ],
      "metadata": {
        "id": "Xo0nkjzFLdOC"
      },
      "execution_count": null,
      "outputs": []
    }
  ]
}